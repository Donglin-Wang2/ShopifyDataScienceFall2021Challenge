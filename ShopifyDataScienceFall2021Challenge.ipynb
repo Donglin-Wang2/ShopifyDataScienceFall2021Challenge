{
 "metadata": {
  "language_info": {
   "codemirror_mode": {
    "name": "ipython",
    "version": 3
   },
   "file_extension": ".py",
   "mimetype": "text/x-python",
   "name": "python",
   "nbconvert_exporter": "python",
   "pygments_lexer": "ipython3",
   "version": "3.7.8-final"
  },
  "orig_nbformat": 2,
  "kernelspec": {
   "name": "python378jvsc74a57bd08608f3369e1b7fe199f3056150d4f7c6c375e24eac93172fa646af6324355164",
   "display_name": "Python 3.7.8 64-bit ('comp5900porj')"
  }
 },
 "nbformat": 4,
 "nbformat_minor": 2,
 "cells": [
  {
   "source": [
    "# Shopify Data Science Fall 2021 Challenge\n",
    "# Part 1\n",
    "## Data Preprocessing\n",
    "The first thing I did is to load the data and the dependencies into the notebook. In addition, I used the `.describe()` function to obtain some general statistics of the dataset. "
   ],
   "cell_type": "markdown",
   "metadata": {}
  },
  {
   "cell_type": "code",
   "execution_count": 1,
   "metadata": {},
   "outputs": [],
   "source": [
    "import numpy as np\n",
    "import pandas as pd\n",
    "import seaborn as sns\n",
    "import matplotlib.pyplot as plt\n",
    "from tabulate import tabulate"
   ]
  },
  {
   "cell_type": "code",
   "execution_count": 2,
   "metadata": {},
   "outputs": [
    {
     "output_type": "execute_result",
     "data": {
      "text/plain": [
       "          order_id      shop_id      user_id   order_amount  total_items\n",
       "count  5000.000000  5000.000000  5000.000000    5000.000000   5000.00000\n",
       "mean   2500.500000    50.078800   849.092400    3145.128000      8.78720\n",
       "std    1443.520003    29.006118    87.798982   41282.539349    116.32032\n",
       "min       1.000000     1.000000   607.000000      90.000000      1.00000\n",
       "25%    1250.750000    24.000000   775.000000     163.000000      1.00000\n",
       "50%    2500.500000    50.000000   849.000000     284.000000      2.00000\n",
       "75%    3750.250000    75.000000   925.000000     390.000000      3.00000\n",
       "max    5000.000000   100.000000   999.000000  704000.000000   2000.00000"
      ],
      "text/html": "<div>\n<style scoped>\n    .dataframe tbody tr th:only-of-type {\n        vertical-align: middle;\n    }\n\n    .dataframe tbody tr th {\n        vertical-align: top;\n    }\n\n    .dataframe thead th {\n        text-align: right;\n    }\n</style>\n<table border=\"1\" class=\"dataframe\">\n  <thead>\n    <tr style=\"text-align: right;\">\n      <th></th>\n      <th>order_id</th>\n      <th>shop_id</th>\n      <th>user_id</th>\n      <th>order_amount</th>\n      <th>total_items</th>\n    </tr>\n  </thead>\n  <tbody>\n    <tr>\n      <th>count</th>\n      <td>5000.000000</td>\n      <td>5000.000000</td>\n      <td>5000.000000</td>\n      <td>5000.000000</td>\n      <td>5000.00000</td>\n    </tr>\n    <tr>\n      <th>mean</th>\n      <td>2500.500000</td>\n      <td>50.078800</td>\n      <td>849.092400</td>\n      <td>3145.128000</td>\n      <td>8.78720</td>\n    </tr>\n    <tr>\n      <th>std</th>\n      <td>1443.520003</td>\n      <td>29.006118</td>\n      <td>87.798982</td>\n      <td>41282.539349</td>\n      <td>116.32032</td>\n    </tr>\n    <tr>\n      <th>min</th>\n      <td>1.000000</td>\n      <td>1.000000</td>\n      <td>607.000000</td>\n      <td>90.000000</td>\n      <td>1.00000</td>\n    </tr>\n    <tr>\n      <th>25%</th>\n      <td>1250.750000</td>\n      <td>24.000000</td>\n      <td>775.000000</td>\n      <td>163.000000</td>\n      <td>1.00000</td>\n    </tr>\n    <tr>\n      <th>50%</th>\n      <td>2500.500000</td>\n      <td>50.000000</td>\n      <td>849.000000</td>\n      <td>284.000000</td>\n      <td>2.00000</td>\n    </tr>\n    <tr>\n      <th>75%</th>\n      <td>3750.250000</td>\n      <td>75.000000</td>\n      <td>925.000000</td>\n      <td>390.000000</td>\n      <td>3.00000</td>\n    </tr>\n    <tr>\n      <th>max</th>\n      <td>5000.000000</td>\n      <td>100.000000</td>\n      <td>999.000000</td>\n      <td>704000.000000</td>\n      <td>2000.00000</td>\n    </tr>\n  </tbody>\n</table>\n</div>"
     },
     "metadata": {},
     "execution_count": 2
    }
   ],
   "source": [
    "df = pd.read_csv('2019 Winter Data Science Intern Challenge Data Set - Sheet1.csv')\n",
    "df.head()\n",
    "df.describe()"
   ]
  },
  {
   "source": [
    "## Q1: What's wrong with the AOV metric?\n",
    "The first thing I noticed is that the standard deviation of the order amount is extremely high. This is an indication that there are a lot of outliers in the dataset in terms of their order amount. Therefore, I try to identify the outlier by first listing orders that have the highest order amount."
   ],
   "cell_type": "markdown",
   "metadata": {}
  },
  {
   "cell_type": "code",
   "execution_count": 3,
   "metadata": {},
   "outputs": [
    {
     "output_type": "execute_result",
     "data": {
      "text/plain": [
       "      order_id  shop_id  user_id  order_amount  total_items payment_method  \\\n",
       "2153      2154       42      607        704000         2000    credit_card   \n",
       "3332      3333       42      607        704000         2000    credit_card   \n",
       "520        521       42      607        704000         2000    credit_card   \n",
       "1602      1603       42      607        704000         2000    credit_card   \n",
       "60          61       42      607        704000         2000    credit_card   \n",
       "2835      2836       42      607        704000         2000    credit_card   \n",
       "4646      4647       42      607        704000         2000    credit_card   \n",
       "2297      2298       42      607        704000         2000    credit_card   \n",
       "1436      1437       42      607        704000         2000    credit_card   \n",
       "4882      4883       42      607        704000         2000    credit_card   \n",
       "4056      4057       42      607        704000         2000    credit_card   \n",
       "15          16       42      607        704000         2000    credit_card   \n",
       "1104      1105       42      607        704000         2000    credit_card   \n",
       "1562      1563       42      607        704000         2000    credit_card   \n",
       "2969      2970       42      607        704000         2000    credit_card   \n",
       "4868      4869       42      607        704000         2000    credit_card   \n",
       "1362      1363       42      607        704000         2000    credit_card   \n",
       "691        692       78      878        154350            6          debit   \n",
       "2492      2493       78      834        102900            4          debit   \n",
       "3724      3725       78      766         77175            3    credit_card   \n",
       "\n",
       "               created_at  \n",
       "2153   2017-03-12 4:00:00  \n",
       "3332   2017-03-24 4:00:00  \n",
       "520    2017-03-02 4:00:00  \n",
       "1602   2017-03-17 4:00:00  \n",
       "60     2017-03-04 4:00:00  \n",
       "2835   2017-03-28 4:00:00  \n",
       "4646   2017-03-02 4:00:00  \n",
       "2297   2017-03-07 4:00:00  \n",
       "1436   2017-03-11 4:00:00  \n",
       "4882   2017-03-25 4:00:00  \n",
       "4056   2017-03-28 4:00:00  \n",
       "15     2017-03-07 4:00:00  \n",
       "1104   2017-03-24 4:00:00  \n",
       "1562   2017-03-19 4:00:00  \n",
       "2969   2017-03-28 4:00:00  \n",
       "4868   2017-03-22 4:00:00  \n",
       "1362   2017-03-15 4:00:00  \n",
       "691   2017-03-27 22:51:43  \n",
       "2492   2017-03-04 4:37:34  \n",
       "3724  2017-03-16 14:13:26  "
      ],
      "text/html": "<div>\n<style scoped>\n    .dataframe tbody tr th:only-of-type {\n        vertical-align: middle;\n    }\n\n    .dataframe tbody tr th {\n        vertical-align: top;\n    }\n\n    .dataframe thead th {\n        text-align: right;\n    }\n</style>\n<table border=\"1\" class=\"dataframe\">\n  <thead>\n    <tr style=\"text-align: right;\">\n      <th></th>\n      <th>order_id</th>\n      <th>shop_id</th>\n      <th>user_id</th>\n      <th>order_amount</th>\n      <th>total_items</th>\n      <th>payment_method</th>\n      <th>created_at</th>\n    </tr>\n  </thead>\n  <tbody>\n    <tr>\n      <th>2153</th>\n      <td>2154</td>\n      <td>42</td>\n      <td>607</td>\n      <td>704000</td>\n      <td>2000</td>\n      <td>credit_card</td>\n      <td>2017-03-12 4:00:00</td>\n    </tr>\n    <tr>\n      <th>3332</th>\n      <td>3333</td>\n      <td>42</td>\n      <td>607</td>\n      <td>704000</td>\n      <td>2000</td>\n      <td>credit_card</td>\n      <td>2017-03-24 4:00:00</td>\n    </tr>\n    <tr>\n      <th>520</th>\n      <td>521</td>\n      <td>42</td>\n      <td>607</td>\n      <td>704000</td>\n      <td>2000</td>\n      <td>credit_card</td>\n      <td>2017-03-02 4:00:00</td>\n    </tr>\n    <tr>\n      <th>1602</th>\n      <td>1603</td>\n      <td>42</td>\n      <td>607</td>\n      <td>704000</td>\n      <td>2000</td>\n      <td>credit_card</td>\n      <td>2017-03-17 4:00:00</td>\n    </tr>\n    <tr>\n      <th>60</th>\n      <td>61</td>\n      <td>42</td>\n      <td>607</td>\n      <td>704000</td>\n      <td>2000</td>\n      <td>credit_card</td>\n      <td>2017-03-04 4:00:00</td>\n    </tr>\n    <tr>\n      <th>2835</th>\n      <td>2836</td>\n      <td>42</td>\n      <td>607</td>\n      <td>704000</td>\n      <td>2000</td>\n      <td>credit_card</td>\n      <td>2017-03-28 4:00:00</td>\n    </tr>\n    <tr>\n      <th>4646</th>\n      <td>4647</td>\n      <td>42</td>\n      <td>607</td>\n      <td>704000</td>\n      <td>2000</td>\n      <td>credit_card</td>\n      <td>2017-03-02 4:00:00</td>\n    </tr>\n    <tr>\n      <th>2297</th>\n      <td>2298</td>\n      <td>42</td>\n      <td>607</td>\n      <td>704000</td>\n      <td>2000</td>\n      <td>credit_card</td>\n      <td>2017-03-07 4:00:00</td>\n    </tr>\n    <tr>\n      <th>1436</th>\n      <td>1437</td>\n      <td>42</td>\n      <td>607</td>\n      <td>704000</td>\n      <td>2000</td>\n      <td>credit_card</td>\n      <td>2017-03-11 4:00:00</td>\n    </tr>\n    <tr>\n      <th>4882</th>\n      <td>4883</td>\n      <td>42</td>\n      <td>607</td>\n      <td>704000</td>\n      <td>2000</td>\n      <td>credit_card</td>\n      <td>2017-03-25 4:00:00</td>\n    </tr>\n    <tr>\n      <th>4056</th>\n      <td>4057</td>\n      <td>42</td>\n      <td>607</td>\n      <td>704000</td>\n      <td>2000</td>\n      <td>credit_card</td>\n      <td>2017-03-28 4:00:00</td>\n    </tr>\n    <tr>\n      <th>15</th>\n      <td>16</td>\n      <td>42</td>\n      <td>607</td>\n      <td>704000</td>\n      <td>2000</td>\n      <td>credit_card</td>\n      <td>2017-03-07 4:00:00</td>\n    </tr>\n    <tr>\n      <th>1104</th>\n      <td>1105</td>\n      <td>42</td>\n      <td>607</td>\n      <td>704000</td>\n      <td>2000</td>\n      <td>credit_card</td>\n      <td>2017-03-24 4:00:00</td>\n    </tr>\n    <tr>\n      <th>1562</th>\n      <td>1563</td>\n      <td>42</td>\n      <td>607</td>\n      <td>704000</td>\n      <td>2000</td>\n      <td>credit_card</td>\n      <td>2017-03-19 4:00:00</td>\n    </tr>\n    <tr>\n      <th>2969</th>\n      <td>2970</td>\n      <td>42</td>\n      <td>607</td>\n      <td>704000</td>\n      <td>2000</td>\n      <td>credit_card</td>\n      <td>2017-03-28 4:00:00</td>\n    </tr>\n    <tr>\n      <th>4868</th>\n      <td>4869</td>\n      <td>42</td>\n      <td>607</td>\n      <td>704000</td>\n      <td>2000</td>\n      <td>credit_card</td>\n      <td>2017-03-22 4:00:00</td>\n    </tr>\n    <tr>\n      <th>1362</th>\n      <td>1363</td>\n      <td>42</td>\n      <td>607</td>\n      <td>704000</td>\n      <td>2000</td>\n      <td>credit_card</td>\n      <td>2017-03-15 4:00:00</td>\n    </tr>\n    <tr>\n      <th>691</th>\n      <td>692</td>\n      <td>78</td>\n      <td>878</td>\n      <td>154350</td>\n      <td>6</td>\n      <td>debit</td>\n      <td>2017-03-27 22:51:43</td>\n    </tr>\n    <tr>\n      <th>2492</th>\n      <td>2493</td>\n      <td>78</td>\n      <td>834</td>\n      <td>102900</td>\n      <td>4</td>\n      <td>debit</td>\n      <td>2017-03-04 4:37:34</td>\n    </tr>\n    <tr>\n      <th>3724</th>\n      <td>3725</td>\n      <td>78</td>\n      <td>766</td>\n      <td>77175</td>\n      <td>3</td>\n      <td>credit_card</td>\n      <td>2017-03-16 14:13:26</td>\n    </tr>\n  </tbody>\n</table>\n</div>"
     },
     "metadata": {},
     "execution_count": 3
    }
   ],
   "source": [
    "df.sort_values(by=['order_amount'], ascending=False)[:20]"
   ]
  },
  {
   "source": [
    "It appears that the orders with the largest transactions all come from shop 42 and 78. In addition, judging by the `order_amount` and `user_id`, it appears that most shoes sold at store 42 all come from the same user at exactly 4:00 on the day of the transaction. This is might be a sign that store 42 is involved in some dubious behavior using automated trading bots. However, we cannot conclude without further information. Therefore, let's see how much the shoes in store 42 and 78 on average. To do this, I added up all the `order_amount` in each shop and divided it by the `total_items`."
   ],
   "cell_type": "markdown",
   "metadata": {}
  },
  {
   "cell_type": "code",
   "execution_count": 4,
   "metadata": {},
   "outputs": [
    {
     "output_type": "stream",
     "name": "stdout",
     "text": [
      "Average shoe price of store 42: 352.0\nAverage shoe price of store 78: 25725.0\n"
     ]
    }
   ],
   "source": [
    "def calc_avg_shoe_price(shop_id):\n",
    "    return df[df['shop_id'] == shop_id]['order_amount'].sum() / df[df['shop_id'] == shop_id]['total_items'].sum()\n",
    "        \n",
    "print(f'Average shoe price of store 42: {calc_avg_shoe_price(42)}')\n",
    "print(f'Average shoe price of store 78: {calc_avg_shoe_price(78)}')"
   ]
  },
  {
   "source": [
    "To put this input perspective, let's see the top 10 stores that have the highest prices per shoes:"
   ],
   "cell_type": "markdown",
   "metadata": {}
  },
  {
   "cell_type": "code",
   "execution_count": 5,
   "metadata": {},
   "outputs": [
    {
     "output_type": "execute_result",
     "data": {
      "text/plain": [
       "   shop_id  average_price\n",
       "0       78        25725.0\n",
       "1       42          352.0\n",
       "2       12          201.0\n",
       "3       89          196.0\n",
       "4       99          195.0\n",
       "5       50          193.0\n",
       "6       38          190.0\n",
       "7       51          187.0\n",
       "8        6          187.0\n",
       "9       11          184.0"
      ],
      "text/html": "<div>\n<style scoped>\n    .dataframe tbody tr th:only-of-type {\n        vertical-align: middle;\n    }\n\n    .dataframe tbody tr th {\n        vertical-align: top;\n    }\n\n    .dataframe thead th {\n        text-align: right;\n    }\n</style>\n<table border=\"1\" class=\"dataframe\">\n  <thead>\n    <tr style=\"text-align: right;\">\n      <th></th>\n      <th>shop_id</th>\n      <th>average_price</th>\n    </tr>\n  </thead>\n  <tbody>\n    <tr>\n      <th>0</th>\n      <td>78</td>\n      <td>25725.0</td>\n    </tr>\n    <tr>\n      <th>1</th>\n      <td>42</td>\n      <td>352.0</td>\n    </tr>\n    <tr>\n      <th>2</th>\n      <td>12</td>\n      <td>201.0</td>\n    </tr>\n    <tr>\n      <th>3</th>\n      <td>89</td>\n      <td>196.0</td>\n    </tr>\n    <tr>\n      <th>4</th>\n      <td>99</td>\n      <td>195.0</td>\n    </tr>\n    <tr>\n      <th>5</th>\n      <td>50</td>\n      <td>193.0</td>\n    </tr>\n    <tr>\n      <th>6</th>\n      <td>38</td>\n      <td>190.0</td>\n    </tr>\n    <tr>\n      <th>7</th>\n      <td>51</td>\n      <td>187.0</td>\n    </tr>\n    <tr>\n      <th>8</th>\n      <td>6</td>\n      <td>187.0</td>\n    </tr>\n    <tr>\n      <th>9</th>\n      <td>11</td>\n      <td>184.0</td>\n    </tr>\n  </tbody>\n</table>\n</div>"
     },
     "metadata": {},
     "execution_count": 5
    }
   ],
   "source": [
    "avg_price_dict = {}\n",
    "for shop_id in pd.unique(df['shop_id']):\n",
    "    avg_price_dict[shop_id] = calc_avg_shoe_price(shop_id)\n",
    "avg_prices = sorted(avg_price_dict.items(), key=lambda x:x[1], reverse=True)\n",
    "pd.DataFrame(avg_prices, columns=['shop_id', 'average_price'])[:10]"
   ]
  },
  {
   "source": [
    "**Answer: Judging by the results from previous cells, we can see that the order amount of stores 42 and 78 deviates significantly from the results of the orders both in terms of the transaction total and prices per shoe. Therefore, the AOV is inflated largely due to these two outliers.** "
   ],
   "cell_type": "markdown",
   "metadata": {}
  },
  {
   "source": [
    "## Q2: What metric would I use?\n",
    "As we can see, except for store 78 and 42, all the other stores' shoe prices are in a similar range as the rest of the shop. Therefore, let's see the distribution of the order amount after removing stores 78 and 42. "
   ],
   "cell_type": "markdown",
   "metadata": {}
  },
  {
   "cell_type": "code",
   "execution_count": 6,
   "metadata": {},
   "outputs": [
    {
     "output_type": "execute_result",
     "data": {
      "text/plain": [
       "<AxesSubplot:>"
      ]
     },
     "metadata": {},
     "execution_count": 6
    },
    {
     "output_type": "display_data",
     "data": {
      "text/plain": "<Figure size 432x288 with 1 Axes>",
      "image/svg+xml": "<?xml version=\"1.0\" encoding=\"utf-8\" standalone=\"no\"?>\n<!DOCTYPE svg PUBLIC \"-//W3C//DTD SVG 1.1//EN\"\n  \"http://www.w3.org/Graphics/SVG/1.1/DTD/svg11.dtd\">\n<!-- Created with matplotlib (https://matplotlib.org/) -->\n<svg height=\"248.79625pt\" version=\"1.1\" viewBox=\"0 0 381.65 248.79625\" width=\"381.65pt\" xmlns=\"http://www.w3.org/2000/svg\" xmlns:xlink=\"http://www.w3.org/1999/xlink\">\n <metadata>\n  <rdf:RDF xmlns:cc=\"http://creativecommons.org/ns#\" xmlns:dc=\"http://purl.org/dc/elements/1.1/\" xmlns:rdf=\"http://www.w3.org/1999/02/22-rdf-syntax-ns#\">\n   <cc:Work>\n    <dc:type rdf:resource=\"http://purl.org/dc/dcmitype/StillImage\"/>\n    <dc:date>2021-05-06T20:58:04.922253</dc:date>\n    <dc:format>image/svg+xml</dc:format>\n    <dc:creator>\n     <cc:Agent>\n      <dc:title>Matplotlib v3.3.4, https://matplotlib.org/</dc:title>\n     </cc:Agent>\n    </dc:creator>\n   </cc:Work>\n  </rdf:RDF>\n </metadata>\n <defs>\n  <style type=\"text/css\">*{stroke-linecap:butt;stroke-linejoin:round;}</style>\n </defs>\n <g id=\"figure_1\">\n  <g id=\"patch_1\">\n   <path d=\"M -0 248.79625 \nL 381.65 248.79625 \nL 381.65 0 \nL -0 0 \nz\n\" style=\"fill:none;\"/>\n  </g>\n  <g id=\"axes_1\">\n   <g id=\"patch_2\">\n    <path d=\"M 39.65 224.64 \nL 374.45 224.64 \nL 374.45 7.2 \nL 39.65 7.2 \nz\n\" style=\"fill:#ffffff;\"/>\n   </g>\n   <g id=\"matplotlib.axis_1\">\n    <g id=\"xtick_1\">\n     <g id=\"line2d_1\">\n      <path clip-path=\"url(#p78e0635c3a)\" d=\"M 207.05 224.64 \nL 207.05 7.2 \n\" style=\"fill:none;stroke:#b0b0b0;stroke-linecap:square;stroke-width:0.8;\"/>\n     </g>\n     <g id=\"line2d_2\">\n      <defs>\n       <path d=\"M 0 0 \nL 0 3.5 \n\" id=\"mafa24e57b1\" style=\"stroke:#000000;stroke-width:0.8;\"/>\n      </defs>\n      <g>\n       <use style=\"stroke:#000000;stroke-width:0.8;\" x=\"207.05\" xlink:href=\"#mafa24e57b1\" y=\"224.64\"/>\n      </g>\n     </g>\n     <g id=\"text_1\">\n      <!-- order_amount -->\n      <g transform=\"translate(171.925 239.238438)scale(0.1 -0.1)\">\n       <defs>\n        <path d=\"M 30.609375 48.390625 \nQ 23.390625 48.390625 19.1875 42.75 \nQ 14.984375 37.109375 14.984375 27.296875 \nQ 14.984375 17.484375 19.15625 11.84375 \nQ 23.34375 6.203125 30.609375 6.203125 \nQ 37.796875 6.203125 41.984375 11.859375 \nQ 46.1875 17.53125 46.1875 27.296875 \nQ 46.1875 37.015625 41.984375 42.703125 \nQ 37.796875 48.390625 30.609375 48.390625 \nz\nM 30.609375 56 \nQ 42.328125 56 49.015625 48.375 \nQ 55.71875 40.765625 55.71875 27.296875 \nQ 55.71875 13.875 49.015625 6.21875 \nQ 42.328125 -1.421875 30.609375 -1.421875 \nQ 18.84375 -1.421875 12.171875 6.21875 \nQ 5.515625 13.875 5.515625 27.296875 \nQ 5.515625 40.765625 12.171875 48.375 \nQ 18.84375 56 30.609375 56 \nz\n\" id=\"DejaVuSans-111\"/>\n        <path d=\"M 41.109375 46.296875 \nQ 39.59375 47.171875 37.8125 47.578125 \nQ 36.03125 48 33.890625 48 \nQ 26.265625 48 22.1875 43.046875 \nQ 18.109375 38.09375 18.109375 28.8125 \nL 18.109375 0 \nL 9.078125 0 \nL 9.078125 54.6875 \nL 18.109375 54.6875 \nL 18.109375 46.1875 \nQ 20.953125 51.171875 25.484375 53.578125 \nQ 30.03125 56 36.53125 56 \nQ 37.453125 56 38.578125 55.875 \nQ 39.703125 55.765625 41.0625 55.515625 \nz\n\" id=\"DejaVuSans-114\"/>\n        <path d=\"M 45.40625 46.390625 \nL 45.40625 75.984375 \nL 54.390625 75.984375 \nL 54.390625 0 \nL 45.40625 0 \nL 45.40625 8.203125 \nQ 42.578125 3.328125 38.25 0.953125 \nQ 33.9375 -1.421875 27.875 -1.421875 \nQ 17.96875 -1.421875 11.734375 6.484375 \nQ 5.515625 14.40625 5.515625 27.296875 \nQ 5.515625 40.1875 11.734375 48.09375 \nQ 17.96875 56 27.875 56 \nQ 33.9375 56 38.25 53.625 \nQ 42.578125 51.265625 45.40625 46.390625 \nz\nM 14.796875 27.296875 \nQ 14.796875 17.390625 18.875 11.75 \nQ 22.953125 6.109375 30.078125 6.109375 \nQ 37.203125 6.109375 41.296875 11.75 \nQ 45.40625 17.390625 45.40625 27.296875 \nQ 45.40625 37.203125 41.296875 42.84375 \nQ 37.203125 48.484375 30.078125 48.484375 \nQ 22.953125 48.484375 18.875 42.84375 \nQ 14.796875 37.203125 14.796875 27.296875 \nz\n\" id=\"DejaVuSans-100\"/>\n        <path d=\"M 56.203125 29.59375 \nL 56.203125 25.203125 \nL 14.890625 25.203125 \nQ 15.484375 15.921875 20.484375 11.0625 \nQ 25.484375 6.203125 34.421875 6.203125 \nQ 39.59375 6.203125 44.453125 7.46875 \nQ 49.3125 8.734375 54.109375 11.28125 \nL 54.109375 2.78125 \nQ 49.265625 0.734375 44.1875 -0.34375 \nQ 39.109375 -1.421875 33.890625 -1.421875 \nQ 20.796875 -1.421875 13.15625 6.1875 \nQ 5.515625 13.8125 5.515625 26.8125 \nQ 5.515625 40.234375 12.765625 48.109375 \nQ 20.015625 56 32.328125 56 \nQ 43.359375 56 49.78125 48.890625 \nQ 56.203125 41.796875 56.203125 29.59375 \nz\nM 47.21875 32.234375 \nQ 47.125 39.59375 43.09375 43.984375 \nQ 39.0625 48.390625 32.421875 48.390625 \nQ 24.90625 48.390625 20.390625 44.140625 \nQ 15.875 39.890625 15.1875 32.171875 \nz\n\" id=\"DejaVuSans-101\"/>\n        <path d=\"M 50.984375 -16.609375 \nL 50.984375 -23.578125 \nL -0.984375 -23.578125 \nL -0.984375 -16.609375 \nz\n\" id=\"DejaVuSans-95\"/>\n        <path d=\"M 34.28125 27.484375 \nQ 23.390625 27.484375 19.1875 25 \nQ 14.984375 22.515625 14.984375 16.5 \nQ 14.984375 11.71875 18.140625 8.90625 \nQ 21.296875 6.109375 26.703125 6.109375 \nQ 34.1875 6.109375 38.703125 11.40625 \nQ 43.21875 16.703125 43.21875 25.484375 \nL 43.21875 27.484375 \nz\nM 52.203125 31.203125 \nL 52.203125 0 \nL 43.21875 0 \nL 43.21875 8.296875 \nQ 40.140625 3.328125 35.546875 0.953125 \nQ 30.953125 -1.421875 24.3125 -1.421875 \nQ 15.921875 -1.421875 10.953125 3.296875 \nQ 6 8.015625 6 15.921875 \nQ 6 25.140625 12.171875 29.828125 \nQ 18.359375 34.515625 30.609375 34.515625 \nL 43.21875 34.515625 \nL 43.21875 35.40625 \nQ 43.21875 41.609375 39.140625 45 \nQ 35.0625 48.390625 27.6875 48.390625 \nQ 23 48.390625 18.546875 47.265625 \nQ 14.109375 46.140625 10.015625 43.890625 \nL 10.015625 52.203125 \nQ 14.9375 54.109375 19.578125 55.046875 \nQ 24.21875 56 28.609375 56 \nQ 40.484375 56 46.34375 49.84375 \nQ 52.203125 43.703125 52.203125 31.203125 \nz\n\" id=\"DejaVuSans-97\"/>\n        <path d=\"M 52 44.1875 \nQ 55.375 50.25 60.0625 53.125 \nQ 64.75 56 71.09375 56 \nQ 79.640625 56 84.28125 50.015625 \nQ 88.921875 44.046875 88.921875 33.015625 \nL 88.921875 0 \nL 79.890625 0 \nL 79.890625 32.71875 \nQ 79.890625 40.578125 77.09375 44.375 \nQ 74.3125 48.1875 68.609375 48.1875 \nQ 61.625 48.1875 57.5625 43.546875 \nQ 53.515625 38.921875 53.515625 30.90625 \nL 53.515625 0 \nL 44.484375 0 \nL 44.484375 32.71875 \nQ 44.484375 40.625 41.703125 44.40625 \nQ 38.921875 48.1875 33.109375 48.1875 \nQ 26.21875 48.1875 22.15625 43.53125 \nQ 18.109375 38.875 18.109375 30.90625 \nL 18.109375 0 \nL 9.078125 0 \nL 9.078125 54.6875 \nL 18.109375 54.6875 \nL 18.109375 46.1875 \nQ 21.1875 51.21875 25.484375 53.609375 \nQ 29.78125 56 35.6875 56 \nQ 41.65625 56 45.828125 52.96875 \nQ 50 49.953125 52 44.1875 \nz\n\" id=\"DejaVuSans-109\"/>\n        <path d=\"M 8.5 21.578125 \nL 8.5 54.6875 \nL 17.484375 54.6875 \nL 17.484375 21.921875 \nQ 17.484375 14.15625 20.5 10.265625 \nQ 23.53125 6.390625 29.59375 6.390625 \nQ 36.859375 6.390625 41.078125 11.03125 \nQ 45.3125 15.671875 45.3125 23.6875 \nL 45.3125 54.6875 \nL 54.296875 54.6875 \nL 54.296875 0 \nL 45.3125 0 \nL 45.3125 8.40625 \nQ 42.046875 3.421875 37.71875 1 \nQ 33.40625 -1.421875 27.6875 -1.421875 \nQ 18.265625 -1.421875 13.375 4.4375 \nQ 8.5 10.296875 8.5 21.578125 \nz\nM 31.109375 56 \nz\n\" id=\"DejaVuSans-117\"/>\n        <path d=\"M 54.890625 33.015625 \nL 54.890625 0 \nL 45.90625 0 \nL 45.90625 32.71875 \nQ 45.90625 40.484375 42.875 44.328125 \nQ 39.84375 48.1875 33.796875 48.1875 \nQ 26.515625 48.1875 22.3125 43.546875 \nQ 18.109375 38.921875 18.109375 30.90625 \nL 18.109375 0 \nL 9.078125 0 \nL 9.078125 54.6875 \nL 18.109375 54.6875 \nL 18.109375 46.1875 \nQ 21.34375 51.125 25.703125 53.5625 \nQ 30.078125 56 35.796875 56 \nQ 45.21875 56 50.046875 50.171875 \nQ 54.890625 44.34375 54.890625 33.015625 \nz\n\" id=\"DejaVuSans-110\"/>\n        <path d=\"M 18.3125 70.21875 \nL 18.3125 54.6875 \nL 36.8125 54.6875 \nL 36.8125 47.703125 \nL 18.3125 47.703125 \nL 18.3125 18.015625 \nQ 18.3125 11.328125 20.140625 9.421875 \nQ 21.96875 7.515625 27.59375 7.515625 \nL 36.8125 7.515625 \nL 36.8125 0 \nL 27.59375 0 \nQ 17.1875 0 13.234375 3.875 \nQ 9.28125 7.765625 9.28125 18.015625 \nL 9.28125 47.703125 \nL 2.6875 47.703125 \nL 2.6875 54.6875 \nL 9.28125 54.6875 \nL 9.28125 70.21875 \nz\n\" id=\"DejaVuSans-116\"/>\n       </defs>\n       <use xlink:href=\"#DejaVuSans-111\"/>\n       <use x=\"61.181641\" xlink:href=\"#DejaVuSans-114\"/>\n       <use x=\"100.544922\" xlink:href=\"#DejaVuSans-100\"/>\n       <use x=\"164.021484\" xlink:href=\"#DejaVuSans-101\"/>\n       <use x=\"225.544922\" xlink:href=\"#DejaVuSans-114\"/>\n       <use x=\"266.658203\" xlink:href=\"#DejaVuSans-95\"/>\n       <use x=\"316.658203\" xlink:href=\"#DejaVuSans-97\"/>\n       <use x=\"377.9375\" xlink:href=\"#DejaVuSans-109\"/>\n       <use x=\"475.349609\" xlink:href=\"#DejaVuSans-111\"/>\n       <use x=\"536.53125\" xlink:href=\"#DejaVuSans-117\"/>\n       <use x=\"599.910156\" xlink:href=\"#DejaVuSans-110\"/>\n       <use x=\"663.289062\" xlink:href=\"#DejaVuSans-116\"/>\n      </g>\n     </g>\n    </g>\n   </g>\n   <g id=\"matplotlib.axis_2\">\n    <g id=\"ytick_1\">\n     <g id=\"line2d_3\">\n      <path clip-path=\"url(#p78e0635c3a)\" d=\"M 39.65 192.925038 \nL 374.45 192.925038 \n\" style=\"fill:none;stroke:#b0b0b0;stroke-linecap:square;stroke-width:0.8;\"/>\n     </g>\n     <g id=\"line2d_4\">\n      <defs>\n       <path d=\"M 0 0 \nL -3.5 0 \n\" id=\"m435ef7e5fd\" style=\"stroke:#000000;stroke-width:0.8;\"/>\n      </defs>\n      <g>\n       <use style=\"stroke:#000000;stroke-width:0.8;\" x=\"39.65\" xlink:href=\"#m435ef7e5fd\" y=\"192.925038\"/>\n      </g>\n     </g>\n     <g id=\"text_2\">\n      <!-- 200 -->\n      <g transform=\"translate(13.5625 196.724257)scale(0.1 -0.1)\">\n       <defs>\n        <path d=\"M 19.1875 8.296875 \nL 53.609375 8.296875 \nL 53.609375 0 \nL 7.328125 0 \nL 7.328125 8.296875 \nQ 12.9375 14.109375 22.625 23.890625 \nQ 32.328125 33.6875 34.8125 36.53125 \nQ 39.546875 41.84375 41.421875 45.53125 \nQ 43.3125 49.21875 43.3125 52.78125 \nQ 43.3125 58.59375 39.234375 62.25 \nQ 35.15625 65.921875 28.609375 65.921875 \nQ 23.96875 65.921875 18.8125 64.3125 \nQ 13.671875 62.703125 7.8125 59.421875 \nL 7.8125 69.390625 \nQ 13.765625 71.78125 18.9375 73 \nQ 24.125 74.21875 28.421875 74.21875 \nQ 39.75 74.21875 46.484375 68.546875 \nQ 53.21875 62.890625 53.21875 53.421875 \nQ 53.21875 48.921875 51.53125 44.890625 \nQ 49.859375 40.875 45.40625 35.40625 \nQ 44.1875 33.984375 37.640625 27.21875 \nQ 31.109375 20.453125 19.1875 8.296875 \nz\n\" id=\"DejaVuSans-50\"/>\n        <path d=\"M 31.78125 66.40625 \nQ 24.171875 66.40625 20.328125 58.90625 \nQ 16.5 51.421875 16.5 36.375 \nQ 16.5 21.390625 20.328125 13.890625 \nQ 24.171875 6.390625 31.78125 6.390625 \nQ 39.453125 6.390625 43.28125 13.890625 \nQ 47.125 21.390625 47.125 36.375 \nQ 47.125 51.421875 43.28125 58.90625 \nQ 39.453125 66.40625 31.78125 66.40625 \nz\nM 31.78125 74.21875 \nQ 44.046875 74.21875 50.515625 64.515625 \nQ 56.984375 54.828125 56.984375 36.375 \nQ 56.984375 17.96875 50.515625 8.265625 \nQ 44.046875 -1.421875 31.78125 -1.421875 \nQ 19.53125 -1.421875 13.0625 8.265625 \nQ 6.59375 17.96875 6.59375 36.375 \nQ 6.59375 54.828125 13.0625 64.515625 \nQ 19.53125 74.21875 31.78125 74.21875 \nz\n\" id=\"DejaVuSans-48\"/>\n       </defs>\n       <use xlink:href=\"#DejaVuSans-50\"/>\n       <use x=\"63.623047\" xlink:href=\"#DejaVuSans-48\"/>\n       <use x=\"127.246094\" xlink:href=\"#DejaVuSans-48\"/>\n      </g>\n     </g>\n    </g>\n    <g id=\"ytick_2\">\n     <g id=\"line2d_5\">\n      <path clip-path=\"url(#p78e0635c3a)\" d=\"M 39.65 153.23172 \nL 374.45 153.23172 \n\" style=\"fill:none;stroke:#b0b0b0;stroke-linecap:square;stroke-width:0.8;\"/>\n     </g>\n     <g id=\"line2d_6\">\n      <g>\n       <use style=\"stroke:#000000;stroke-width:0.8;\" x=\"39.65\" xlink:href=\"#m435ef7e5fd\" y=\"153.23172\"/>\n      </g>\n     </g>\n     <g id=\"text_3\">\n      <!-- 400 -->\n      <g transform=\"translate(13.5625 157.030938)scale(0.1 -0.1)\">\n       <defs>\n        <path d=\"M 37.796875 64.3125 \nL 12.890625 25.390625 \nL 37.796875 25.390625 \nz\nM 35.203125 72.90625 \nL 47.609375 72.90625 \nL 47.609375 25.390625 \nL 58.015625 25.390625 \nL 58.015625 17.1875 \nL 47.609375 17.1875 \nL 47.609375 0 \nL 37.796875 0 \nL 37.796875 17.1875 \nL 4.890625 17.1875 \nL 4.890625 26.703125 \nz\n\" id=\"DejaVuSans-52\"/>\n       </defs>\n       <use xlink:href=\"#DejaVuSans-52\"/>\n       <use x=\"63.623047\" xlink:href=\"#DejaVuSans-48\"/>\n       <use x=\"127.246094\" xlink:href=\"#DejaVuSans-48\"/>\n      </g>\n     </g>\n    </g>\n    <g id=\"ytick_3\">\n     <g id=\"line2d_7\">\n      <path clip-path=\"url(#p78e0635c3a)\" d=\"M 39.65 113.538401 \nL 374.45 113.538401 \n\" style=\"fill:none;stroke:#b0b0b0;stroke-linecap:square;stroke-width:0.8;\"/>\n     </g>\n     <g id=\"line2d_8\">\n      <g>\n       <use style=\"stroke:#000000;stroke-width:0.8;\" x=\"39.65\" xlink:href=\"#m435ef7e5fd\" y=\"113.538401\"/>\n      </g>\n     </g>\n     <g id=\"text_4\">\n      <!-- 600 -->\n      <g transform=\"translate(13.5625 117.33762)scale(0.1 -0.1)\">\n       <defs>\n        <path d=\"M 33.015625 40.375 \nQ 26.375 40.375 22.484375 35.828125 \nQ 18.609375 31.296875 18.609375 23.390625 \nQ 18.609375 15.53125 22.484375 10.953125 \nQ 26.375 6.390625 33.015625 6.390625 \nQ 39.65625 6.390625 43.53125 10.953125 \nQ 47.40625 15.53125 47.40625 23.390625 \nQ 47.40625 31.296875 43.53125 35.828125 \nQ 39.65625 40.375 33.015625 40.375 \nz\nM 52.59375 71.296875 \nL 52.59375 62.3125 \nQ 48.875 64.0625 45.09375 64.984375 \nQ 41.3125 65.921875 37.59375 65.921875 \nQ 27.828125 65.921875 22.671875 59.328125 \nQ 17.53125 52.734375 16.796875 39.40625 \nQ 19.671875 43.65625 24.015625 45.921875 \nQ 28.375 48.1875 33.59375 48.1875 \nQ 44.578125 48.1875 50.953125 41.515625 \nQ 57.328125 34.859375 57.328125 23.390625 \nQ 57.328125 12.15625 50.6875 5.359375 \nQ 44.046875 -1.421875 33.015625 -1.421875 \nQ 20.359375 -1.421875 13.671875 8.265625 \nQ 6.984375 17.96875 6.984375 36.375 \nQ 6.984375 53.65625 15.1875 63.9375 \nQ 23.390625 74.21875 37.203125 74.21875 \nQ 40.921875 74.21875 44.703125 73.484375 \nQ 48.484375 72.75 52.59375 71.296875 \nz\n\" id=\"DejaVuSans-54\"/>\n       </defs>\n       <use xlink:href=\"#DejaVuSans-54\"/>\n       <use x=\"63.623047\" xlink:href=\"#DejaVuSans-48\"/>\n       <use x=\"127.246094\" xlink:href=\"#DejaVuSans-48\"/>\n      </g>\n     </g>\n    </g>\n    <g id=\"ytick_4\">\n     <g id=\"line2d_9\">\n      <path clip-path=\"url(#p78e0635c3a)\" d=\"M 39.65 73.845082 \nL 374.45 73.845082 \n\" style=\"fill:none;stroke:#b0b0b0;stroke-linecap:square;stroke-width:0.8;\"/>\n     </g>\n     <g id=\"line2d_10\">\n      <g>\n       <use style=\"stroke:#000000;stroke-width:0.8;\" x=\"39.65\" xlink:href=\"#m435ef7e5fd\" y=\"73.845082\"/>\n      </g>\n     </g>\n     <g id=\"text_5\">\n      <!-- 800 -->\n      <g transform=\"translate(13.5625 77.644301)scale(0.1 -0.1)\">\n       <defs>\n        <path d=\"M 31.78125 34.625 \nQ 24.75 34.625 20.71875 30.859375 \nQ 16.703125 27.09375 16.703125 20.515625 \nQ 16.703125 13.921875 20.71875 10.15625 \nQ 24.75 6.390625 31.78125 6.390625 \nQ 38.8125 6.390625 42.859375 10.171875 \nQ 46.921875 13.96875 46.921875 20.515625 \nQ 46.921875 27.09375 42.890625 30.859375 \nQ 38.875 34.625 31.78125 34.625 \nz\nM 21.921875 38.8125 \nQ 15.578125 40.375 12.03125 44.71875 \nQ 8.5 49.078125 8.5 55.328125 \nQ 8.5 64.0625 14.71875 69.140625 \nQ 20.953125 74.21875 31.78125 74.21875 \nQ 42.671875 74.21875 48.875 69.140625 \nQ 55.078125 64.0625 55.078125 55.328125 \nQ 55.078125 49.078125 51.53125 44.71875 \nQ 48 40.375 41.703125 38.8125 \nQ 48.828125 37.15625 52.796875 32.3125 \nQ 56.78125 27.484375 56.78125 20.515625 \nQ 56.78125 9.90625 50.3125 4.234375 \nQ 43.84375 -1.421875 31.78125 -1.421875 \nQ 19.734375 -1.421875 13.25 4.234375 \nQ 6.78125 9.90625 6.78125 20.515625 \nQ 6.78125 27.484375 10.78125 32.3125 \nQ 14.796875 37.15625 21.921875 38.8125 \nz\nM 18.3125 54.390625 \nQ 18.3125 48.734375 21.84375 45.5625 \nQ 25.390625 42.390625 31.78125 42.390625 \nQ 38.140625 42.390625 41.71875 45.5625 \nQ 45.3125 48.734375 45.3125 54.390625 \nQ 45.3125 60.0625 41.71875 63.234375 \nQ 38.140625 66.40625 31.78125 66.40625 \nQ 25.390625 66.40625 21.84375 63.234375 \nQ 18.3125 60.0625 18.3125 54.390625 \nz\n\" id=\"DejaVuSans-56\"/>\n       </defs>\n       <use xlink:href=\"#DejaVuSans-56\"/>\n       <use x=\"63.623047\" xlink:href=\"#DejaVuSans-48\"/>\n       <use x=\"127.246094\" xlink:href=\"#DejaVuSans-48\"/>\n      </g>\n     </g>\n    </g>\n    <g id=\"ytick_5\">\n     <g id=\"line2d_11\">\n      <path clip-path=\"url(#p78e0635c3a)\" d=\"M 39.65 34.151763 \nL 374.45 34.151763 \n\" style=\"fill:none;stroke:#b0b0b0;stroke-linecap:square;stroke-width:0.8;\"/>\n     </g>\n     <g id=\"line2d_12\">\n      <g>\n       <use style=\"stroke:#000000;stroke-width:0.8;\" x=\"39.65\" xlink:href=\"#m435ef7e5fd\" y=\"34.151763\"/>\n      </g>\n     </g>\n     <g id=\"text_6\">\n      <!-- 1000 -->\n      <g transform=\"translate(7.2 37.950982)scale(0.1 -0.1)\">\n       <defs>\n        <path d=\"M 12.40625 8.296875 \nL 28.515625 8.296875 \nL 28.515625 63.921875 \nL 10.984375 60.40625 \nL 10.984375 69.390625 \nL 28.421875 72.90625 \nL 38.28125 72.90625 \nL 38.28125 8.296875 \nL 54.390625 8.296875 \nL 54.390625 0 \nL 12.40625 0 \nz\n\" id=\"DejaVuSans-49\"/>\n       </defs>\n       <use xlink:href=\"#DejaVuSans-49\"/>\n       <use x=\"63.623047\" xlink:href=\"#DejaVuSans-48\"/>\n       <use x=\"127.246094\" xlink:href=\"#DejaVuSans-48\"/>\n       <use x=\"190.869141\" xlink:href=\"#DejaVuSans-48\"/>\n      </g>\n     </g>\n    </g>\n   </g>\n   <g id=\"line2d_13\">\n    <path clip-path=\"url(#p78e0635c3a)\" d=\"M 181.94 200.268302 \nL 232.16 200.268302 \nL 232.16 155.911019 \nL 181.94 155.911019 \nL 181.94 200.268302 \n\" style=\"fill:none;stroke:#1f77b4;stroke-linecap:square;\"/>\n   </g>\n   <g id=\"line2d_14\">\n    <path clip-path=\"url(#p78e0635c3a)\" d=\"M 207.05 200.268302 \nL 207.05 214.756364 \n\" style=\"fill:none;stroke:#1f77b4;stroke-linecap:square;\"/>\n   </g>\n   <g id=\"line2d_15\">\n    <path clip-path=\"url(#p78e0635c3a)\" d=\"M 207.05 155.911019 \nL 207.05 91.310142 \n\" style=\"fill:none;stroke:#1f77b4;stroke-linecap:square;\"/>\n   </g>\n   <g id=\"line2d_16\">\n    <path clip-path=\"url(#p78e0635c3a)\" d=\"M 194.495 214.756364 \nL 219.605 214.756364 \n\" style=\"fill:none;stroke:#000000;stroke-linecap:square;\"/>\n   </g>\n   <g id=\"line2d_17\">\n    <path clip-path=\"url(#p78e0635c3a)\" d=\"M 194.495 91.310142 \nL 219.605 91.310142 \n\" style=\"fill:none;stroke:#000000;stroke-linecap:square;\"/>\n   </g>\n   <g id=\"line2d_18\">\n    <defs>\n     <path d=\"M 0 3 \nC 0.795609 3 1.55874 2.683901 2.12132 2.12132 \nC 2.683901 1.55874 3 0.795609 3 0 \nC 3 -0.795609 2.683901 -1.55874 2.12132 -2.12132 \nC 1.55874 -2.683901 0.795609 -3 0 -3 \nC -0.795609 -3 -1.55874 -2.683901 -2.12132 -2.12132 \nC -2.683901 -1.55874 -3 -0.795609 -3 0 \nC -3 0.795609 -2.683901 1.55874 -2.12132 2.12132 \nC -1.55874 2.683901 -0.795609 3 0 3 \nz\n\" id=\"m78ff34b079\" style=\"stroke:#000000;\"/>\n    </defs>\n    <g clip-path=\"url(#p78e0635c3a)\">\n     <use style=\"fill-opacity:0;stroke:#000000;\" x=\"207.05\" xlink:href=\"#m78ff34b079\" y=\"77.814414\"/>\n     <use style=\"fill-opacity:0;stroke:#000000;\" x=\"207.05\" xlink:href=\"#m78ff34b079\" y=\"80.791413\"/>\n     <use style=\"fill-opacity:0;stroke:#000000;\" x=\"207.05\" xlink:href=\"#m78ff34b079\" y=\"77.814414\"/>\n     <use style=\"fill-opacity:0;stroke:#000000;\" x=\"207.05\" xlink:href=\"#m78ff34b079\" y=\"80.791413\"/>\n     <use style=\"fill-opacity:0;stroke:#000000;\" x=\"207.05\" xlink:href=\"#m78ff34b079\" y=\"77.814414\"/>\n     <use style=\"fill-opacity:0;stroke:#000000;\" x=\"207.05\" xlink:href=\"#m78ff34b079\" y=\"77.814414\"/>\n     <use style=\"fill-opacity:0;stroke:#000000;\" x=\"207.05\" xlink:href=\"#m78ff34b079\" y=\"67.891084\"/>\n     <use style=\"fill-opacity:0;stroke:#000000;\" x=\"207.05\" xlink:href=\"#m78ff34b079\" y=\"84.165345\"/>\n     <use style=\"fill-opacity:0;stroke:#000000;\" x=\"207.05\" xlink:href=\"#m78ff34b079\" y=\"79.402147\"/>\n     <use style=\"fill-opacity:0;stroke:#000000;\" x=\"207.05\" xlink:href=\"#m78ff34b079\" y=\"73.051216\"/>\n     <use style=\"fill-opacity:0;stroke:#000000;\" x=\"207.05\" xlink:href=\"#m78ff34b079\" y=\"70.868083\"/>\n     <use style=\"fill-opacity:0;stroke:#000000;\" x=\"207.05\" xlink:href=\"#m78ff34b079\" y=\"56.975422\"/>\n     <use style=\"fill-opacity:0;stroke:#000000;\" x=\"207.05\" xlink:href=\"#m78ff34b079\" y=\"77.020548\"/>\n     <use style=\"fill-opacity:0;stroke:#000000;\" x=\"207.05\" xlink:href=\"#m78ff34b079\" y=\"70.868083\"/>\n     <use style=\"fill-opacity:0;stroke:#000000;\" x=\"207.05\" xlink:href=\"#m78ff34b079\" y=\"87.737744\"/>\n     <use style=\"fill-opacity:0;stroke:#000000;\" x=\"207.05\" xlink:href=\"#m78ff34b079\" y=\"56.975422\"/>\n     <use style=\"fill-opacity:0;stroke:#000000;\" x=\"207.05\" xlink:href=\"#m78ff34b079\" y=\"47.052092\"/>\n     <use style=\"fill-opacity:0;stroke:#000000;\" x=\"207.05\" xlink:href=\"#m78ff34b079\" y=\"80.791413\"/>\n     <use style=\"fill-opacity:0;stroke:#000000;\" x=\"207.05\" xlink:href=\"#m78ff34b079\" y=\"86.546944\"/>\n     <use style=\"fill-opacity:0;stroke:#000000;\" x=\"207.05\" xlink:href=\"#m78ff34b079\" y=\"42.090427\"/>\n     <use style=\"fill-opacity:0;stroke:#000000;\" x=\"207.05\" xlink:href=\"#m78ff34b079\" y=\"73.845082\"/>\n     <use style=\"fill-opacity:0;stroke:#000000;\" x=\"207.05\" xlink:href=\"#m78ff34b079\" y=\"73.051216\"/>\n     <use style=\"fill-opacity:0;stroke:#000000;\" x=\"207.05\" xlink:href=\"#m78ff34b079\" y=\"73.845082\"/>\n     <use style=\"fill-opacity:0;stroke:#000000;\" x=\"207.05\" xlink:href=\"#m78ff34b079\" y=\"60.944754\"/>\n     <use style=\"fill-opacity:0;stroke:#000000;\" x=\"207.05\" xlink:href=\"#m78ff34b079\" y=\"84.760745\"/>\n     <use style=\"fill-opacity:0;stroke:#000000;\" x=\"207.05\" xlink:href=\"#m78ff34b079\" y=\"67.891084\"/>\n     <use style=\"fill-opacity:0;stroke:#000000;\" x=\"207.05\" xlink:href=\"#m78ff34b079\" y=\"57.967755\"/>\n     <use style=\"fill-opacity:0;stroke:#000000;\" x=\"207.05\" xlink:href=\"#m78ff34b079\" y=\"50.029091\"/>\n     <use style=\"fill-opacity:0;stroke:#000000;\" x=\"207.05\" xlink:href=\"#m78ff34b079\" y=\"80.791413\"/>\n     <use style=\"fill-opacity:0;stroke:#000000;\" x=\"207.05\" xlink:href=\"#m78ff34b079\" y=\"79.005214\"/>\n     <use style=\"fill-opacity:0;stroke:#000000;\" x=\"207.05\" xlink:href=\"#m78ff34b079\" y=\"75.829748\"/>\n     <use style=\"fill-opacity:0;stroke:#000000;\" x=\"207.05\" xlink:href=\"#m78ff34b079\" y=\"77.020548\"/>\n     <use style=\"fill-opacity:0;stroke:#000000;\" x=\"207.05\" xlink:href=\"#m78ff34b079\" y=\"44.472026\"/>\n     <use style=\"fill-opacity:0;stroke:#000000;\" x=\"207.05\" xlink:href=\"#m78ff34b079\" y=\"88.928543\"/>\n     <use style=\"fill-opacity:0;stroke:#000000;\" x=\"207.05\" xlink:href=\"#m78ff34b079\" y=\"64.914085\"/>\n     <use style=\"fill-opacity:0;stroke:#000000;\" x=\"207.05\" xlink:href=\"#m78ff34b079\" y=\"81.783746\"/>\n     <use style=\"fill-opacity:0;stroke:#000000;\" x=\"207.05\" xlink:href=\"#m78ff34b079\" y=\"84.760745\"/>\n     <use style=\"fill-opacity:0;stroke:#000000;\" x=\"207.05\" xlink:href=\"#m78ff34b079\" y=\"41.098094\"/>\n     <use style=\"fill-opacity:0;stroke:#000000;\" x=\"207.05\" xlink:href=\"#m78ff34b079\" y=\"47.052092\"/>\n     <use style=\"fill-opacity:0;stroke:#000000;\" x=\"207.05\" xlink:href=\"#m78ff34b079\" y=\"77.814414\"/>\n     <use style=\"fill-opacity:0;stroke:#000000;\" x=\"207.05\" xlink:href=\"#m78ff34b079\" y=\"72.852749\"/>\n     <use style=\"fill-opacity:0;stroke:#000000;\" x=\"207.05\" xlink:href=\"#m78ff34b079\" y=\"88.928543\"/>\n     <use style=\"fill-opacity:0;stroke:#000000;\" x=\"207.05\" xlink:href=\"#m78ff34b079\" y=\"67.891084\"/>\n     <use style=\"fill-opacity:0;stroke:#000000;\" x=\"207.05\" xlink:href=\"#m78ff34b079\" y=\"55.983089\"/>\n     <use style=\"fill-opacity:0;stroke:#000000;\" x=\"207.05\" xlink:href=\"#m78ff34b079\" y=\"38.121095\"/>\n     <use style=\"fill-opacity:0;stroke:#000000;\" x=\"207.05\" xlink:href=\"#m78ff34b079\" y=\"81.783746\"/>\n     <use style=\"fill-opacity:0;stroke:#000000;\" x=\"207.05\" xlink:href=\"#m78ff34b079\" y=\"84.165345\"/>\n     <use style=\"fill-opacity:0;stroke:#000000;\" x=\"207.05\" xlink:href=\"#m78ff34b079\" y=\"76.623614\"/>\n     <use style=\"fill-opacity:0;stroke:#000000;\" x=\"207.05\" xlink:href=\"#m78ff34b079\" y=\"86.546944\"/>\n     <use style=\"fill-opacity:0;stroke:#000000;\" x=\"207.05\" xlink:href=\"#m78ff34b079\" y=\"72.852749\"/>\n     <use style=\"fill-opacity:0;stroke:#000000;\" x=\"207.05\" xlink:href=\"#m78ff34b079\" y=\"86.546944\"/>\n     <use style=\"fill-opacity:0;stroke:#000000;\" x=\"207.05\" xlink:href=\"#m78ff34b079\" y=\"47.052092\"/>\n     <use style=\"fill-opacity:0;stroke:#000000;\" x=\"207.05\" xlink:href=\"#m78ff34b079\" y=\"17.083636\"/>\n     <use style=\"fill-opacity:0;stroke:#000000;\" x=\"207.05\" xlink:href=\"#m78ff34b079\" y=\"86.546944\"/>\n     <use style=\"fill-opacity:0;stroke:#000000;\" x=\"207.05\" xlink:href=\"#m78ff34b079\" y=\"88.928543\"/>\n     <use style=\"fill-opacity:0;stroke:#000000;\" x=\"207.05\" xlink:href=\"#m78ff34b079\" y=\"70.669617\"/>\n     <use style=\"fill-opacity:0;stroke:#000000;\" x=\"207.05\" xlink:href=\"#m78ff34b079\" y=\"71.860416\"/>\n     <use style=\"fill-opacity:0;stroke:#000000;\" x=\"207.05\" xlink:href=\"#m78ff34b079\" y=\"85.753078\"/>\n     <use style=\"fill-opacity:0;stroke:#000000;\" x=\"207.05\" xlink:href=\"#m78ff34b079\" y=\"21.449901\"/>\n     <use style=\"fill-opacity:0;stroke:#000000;\" x=\"207.05\" xlink:href=\"#m78ff34b079\" y=\"77.814414\"/>\n     <use style=\"fill-opacity:0;stroke:#000000;\" x=\"207.05\" xlink:href=\"#m78ff34b079\" y=\"86.745411\"/>\n     <use style=\"fill-opacity:0;stroke:#000000;\" x=\"207.05\" xlink:href=\"#m78ff34b079\" y=\"81.783746\"/>\n     <use style=\"fill-opacity:0;stroke:#000000;\" x=\"207.05\" xlink:href=\"#m78ff34b079\" y=\"57.967755\"/>\n     <use style=\"fill-opacity:0;stroke:#000000;\" x=\"207.05\" xlink:href=\"#m78ff34b079\" y=\"77.814414\"/>\n     <use style=\"fill-opacity:0;stroke:#000000;\" x=\"207.05\" xlink:href=\"#m78ff34b079\" y=\"84.165345\"/>\n     <use style=\"fill-opacity:0;stroke:#000000;\" x=\"207.05\" xlink:href=\"#m78ff34b079\" y=\"84.165345\"/>\n     <use style=\"fill-opacity:0;stroke:#000000;\" x=\"207.05\" xlink:href=\"#m78ff34b079\" y=\"84.165345\"/>\n     <use style=\"fill-opacity:0;stroke:#000000;\" x=\"207.05\" xlink:href=\"#m78ff34b079\" y=\"73.845082\"/>\n     <use style=\"fill-opacity:0;stroke:#000000;\" x=\"207.05\" xlink:href=\"#m78ff34b079\" y=\"88.730077\"/>\n     <use style=\"fill-opacity:0;stroke:#000000;\" x=\"207.05\" xlink:href=\"#m78ff34b079\" y=\"77.814414\"/>\n     <use style=\"fill-opacity:0;stroke:#000000;\" x=\"207.05\" xlink:href=\"#m78ff34b079\" y=\"42.090427\"/>\n     <use style=\"fill-opacity:0;stroke:#000000;\" x=\"207.05\" xlink:href=\"#m78ff34b079\" y=\"75.829748\"/>\n     <use style=\"fill-opacity:0;stroke:#000000;\" x=\"207.05\" xlink:href=\"#m78ff34b079\" y=\"81.783746\"/>\n     <use style=\"fill-opacity:0;stroke:#000000;\" x=\"207.05\" xlink:href=\"#m78ff34b079\" y=\"80.791413\"/>\n     <use style=\"fill-opacity:0;stroke:#000000;\" x=\"207.05\" xlink:href=\"#m78ff34b079\" y=\"57.967755\"/>\n     <use style=\"fill-opacity:0;stroke:#000000;\" x=\"207.05\" xlink:href=\"#m78ff34b079\" y=\"60.944754\"/>\n     <use style=\"fill-opacity:0;stroke:#000000;\" x=\"207.05\" xlink:href=\"#m78ff34b079\" y=\"79.402147\"/>\n    </g>\n   </g>\n   <g id=\"line2d_19\">\n    <path clip-path=\"url(#p78e0635c3a)\" d=\"M 181.94 176.253844 \nL 232.16 176.253844 \n\" style=\"fill:none;stroke:#2ca02c;stroke-linecap:square;\"/>\n   </g>\n   <g id=\"patch_3\">\n    <path d=\"M 39.65 224.64 \nL 39.65 7.2 \n\" style=\"fill:none;stroke:#000000;stroke-linecap:square;stroke-linejoin:miter;stroke-width:0.8;\"/>\n   </g>\n   <g id=\"patch_4\">\n    <path d=\"M 374.45 224.64 \nL 374.45 7.2 \n\" style=\"fill:none;stroke:#000000;stroke-linecap:square;stroke-linejoin:miter;stroke-width:0.8;\"/>\n   </g>\n   <g id=\"patch_5\">\n    <path d=\"M 39.65 224.64 \nL 374.45 224.64 \n\" style=\"fill:none;stroke:#000000;stroke-linecap:square;stroke-linejoin:miter;stroke-width:0.8;\"/>\n   </g>\n   <g id=\"patch_6\">\n    <path d=\"M 39.65 7.2 \nL 374.45 7.2 \n\" style=\"fill:none;stroke:#000000;stroke-linecap:square;stroke-linejoin:miter;stroke-width:0.8;\"/>\n   </g>\n  </g>\n </g>\n <defs>\n  <clipPath id=\"p78e0635c3a\">\n   <rect height=\"217.44\" width=\"334.8\" x=\"39.65\" y=\"7.2\"/>\n  </clipPath>\n </defs>\n</svg>\n",
      "image/png": "[encoded data removed]"
     },
     "metadata": {
      "needs_background": "light"
     }
    }
   ],
   "source": [
    "filtered_df = df[(df['shop_id'] != 42) & (df['shop_id'] != 78)]\n",
    "filtered_df.boxplot('order_amount')"
   ]
  },
  {
   "source": [
    "According to the documentation of `pandas.DataFrame.boxplot`, the edges of the box indeicates the 1st (Q1) and 3rd (Q3) quartile of the of the order amount while the line in the middle is the median. The whisker extend outward by no more than 1.5 * (Q3 - Q1). As shown by the dots on the top of the graph, there are some outliers above the top whiskers even after store 42 and 78 are eliminated. The following code shows you how many outliers are outside of the whiskers:"
   ],
   "cell_type": "markdown",
   "metadata": {}
  },
  {
   "cell_type": "code",
   "execution_count": 7,
   "metadata": {},
   "outputs": [
    {
     "output_type": "execute_result",
     "data": {
      "text/plain": [
       "      order_id  shop_id  user_id  order_amount  total_items payment_method  \\\n",
       "99         100       18      752           780            5           cash   \n",
       "136        137       15      961           765            5    credit_card   \n",
       "219        220       23      884           780            5    credit_card   \n",
       "222        223       96      829           765            5          debit   \n",
       "259        260       99      963           780            4    credit_card   \n",
       "...        ...      ...      ...           ...          ...            ...   \n",
       "4905      4906       38      748           760            4          debit   \n",
       "4927      4928       74      849           765            5           cash   \n",
       "4952      4953       26      786           880            5           cash   \n",
       "4958      4959       70      711           865            5    credit_card   \n",
       "4980      4981       50      942           772            4    credit_card   \n",
       "\n",
       "               created_at  \n",
       "99    2017-03-06 23:41:16  \n",
       "136    2017-03-26 5:06:46  \n",
       "219   2017-03-03 20:11:05  \n",
       "222   2017-03-13 15:16:25  \n",
       "259   2017-03-25 11:41:01  \n",
       "...                   ...  \n",
       "4905  2017-03-30 17:21:52  \n",
       "4927   2017-03-28 6:55:57  \n",
       "4952   2017-03-17 1:50:18  \n",
       "4958  2017-03-08 17:22:51  \n",
       "4980   2017-03-23 5:15:19  \n",
       "\n",
       "[77 rows x 7 columns]"
      ],
      "text/html": "<div>\n<style scoped>\n    .dataframe tbody tr th:only-of-type {\n        vertical-align: middle;\n    }\n\n    .dataframe tbody tr th {\n        vertical-align: top;\n    }\n\n    .dataframe thead th {\n        text-align: right;\n    }\n</style>\n<table border=\"1\" class=\"dataframe\">\n  <thead>\n    <tr style=\"text-align: right;\">\n      <th></th>\n      <th>order_id</th>\n      <th>shop_id</th>\n      <th>user_id</th>\n      <th>order_amount</th>\n      <th>total_items</th>\n      <th>payment_method</th>\n      <th>created_at</th>\n    </tr>\n  </thead>\n  <tbody>\n    <tr>\n      <th>99</th>\n      <td>100</td>\n      <td>18</td>\n      <td>752</td>\n      <td>780</td>\n      <td>5</td>\n      <td>cash</td>\n      <td>2017-03-06 23:41:16</td>\n    </tr>\n    <tr>\n      <th>136</th>\n      <td>137</td>\n      <td>15</td>\n      <td>961</td>\n      <td>765</td>\n      <td>5</td>\n      <td>credit_card</td>\n      <td>2017-03-26 5:06:46</td>\n    </tr>\n    <tr>\n      <th>219</th>\n      <td>220</td>\n      <td>23</td>\n      <td>884</td>\n      <td>780</td>\n      <td>5</td>\n      <td>credit_card</td>\n      <td>2017-03-03 20:11:05</td>\n    </tr>\n    <tr>\n      <th>222</th>\n      <td>223</td>\n      <td>96</td>\n      <td>829</td>\n      <td>765</td>\n      <td>5</td>\n      <td>debit</td>\n      <td>2017-03-13 15:16:25</td>\n    </tr>\n    <tr>\n      <th>259</th>\n      <td>260</td>\n      <td>99</td>\n      <td>963</td>\n      <td>780</td>\n      <td>4</td>\n      <td>credit_card</td>\n      <td>2017-03-25 11:41:01</td>\n    </tr>\n    <tr>\n      <th>...</th>\n      <td>...</td>\n      <td>...</td>\n      <td>...</td>\n      <td>...</td>\n      <td>...</td>\n      <td>...</td>\n      <td>...</td>\n    </tr>\n    <tr>\n      <th>4905</th>\n      <td>4906</td>\n      <td>38</td>\n      <td>748</td>\n      <td>760</td>\n      <td>4</td>\n      <td>debit</td>\n      <td>2017-03-30 17:21:52</td>\n    </tr>\n    <tr>\n      <th>4927</th>\n      <td>4928</td>\n      <td>74</td>\n      <td>849</td>\n      <td>765</td>\n      <td>5</td>\n      <td>cash</td>\n      <td>2017-03-28 6:55:57</td>\n    </tr>\n    <tr>\n      <th>4952</th>\n      <td>4953</td>\n      <td>26</td>\n      <td>786</td>\n      <td>880</td>\n      <td>5</td>\n      <td>cash</td>\n      <td>2017-03-17 1:50:18</td>\n    </tr>\n    <tr>\n      <th>4958</th>\n      <td>4959</td>\n      <td>70</td>\n      <td>711</td>\n      <td>865</td>\n      <td>5</td>\n      <td>credit_card</td>\n      <td>2017-03-08 17:22:51</td>\n    </tr>\n    <tr>\n      <th>4980</th>\n      <td>4981</td>\n      <td>50</td>\n      <td>942</td>\n      <td>772</td>\n      <td>4</td>\n      <td>credit_card</td>\n      <td>2017-03-23 5:15:19</td>\n    </tr>\n  </tbody>\n</table>\n<p>77 rows × 7 columns</p>\n</div>"
     },
     "metadata": {},
     "execution_count": 7
    }
   ],
   "source": [
    "Q1 = filtered_df.quantile(0.25)['order_amount']\n",
    "Q3 = filtered_df.quantile(0.75)['order_amount']\n",
    "IQS = Q3 - Q1\n",
    "filtered_outliers = filtered_df[filtered_df['order_amount'] > Q3 + 1.5 * IQS]\n",
    "filtered_outliers"
   ]
  },
  {
   "source": [
    "As we can see, we only have 77 outliers above the top whiskers. This is not too bad, since they are only a fraction of the 5000 orders in the dataset. However, we can also see from the bar graph that the median deviates drastically from the more expensive orders. This means that, although we have eliminated the obvious outliers, we still have a lot of high-end shoe store that charges at a price much higher than the median price.\n",
    "\n",
    "All the evidence makes me think that a bucketed approach would be more appropriate. Namely, we divide the order amount into buckets, normalize each bucket, and sum the normalized value. Then, assuming that stores with higher order-amount also have higher profit, we can choose a small scaling factor that reward stores with the higher order-amount.\n",
    "\n",
    "The notations go as follows:\n",
    "\n",
    "$n$: Total number of orders\n",
    "\n",
    "$i \\in \\{1, ..., n\\}$: Index of the orders\n",
    "\n",
    "$t_i$: The order amount of the $i$th order\n",
    "\n",
    "$B$: Bucket size\n",
    "\n",
    "$f(t_i)$: A scaling coefficient based on the order amount\n",
    "\n",
    "$$Weighted Bucket Average = \\sum_{i \\in \\{1, ..., n\\}} f(t_i) \\times \\frac{t_i \\mod B}{B}$$\n",
    "\n",
    "Where $f(t_i)$ is any function that has the property:\n",
    "\n",
    "$$\\int_{0}^{\\max \\{t_1, ..., t_n\\}}f(x)dx = 1$$\n",
    "\n",
    "This way, $Weighted Bucket Average$ is guaranteed to have a value between 0 and 1. For this analysis, assuming that we favor the orders with larger amount, we can naively put:\n",
    "$$f(t_i) = \\frac{2t_i}{\\max \\{t_1, ..., t_n\\} ^ 2}$$\n",
    "\n",
    "In large, the $Weighted Bucket Average$ are low when the order amount is dichotomized. If we have a low value for $Weighted Bucket Average$, that means that most stores fail to fulfill their full potential compared to the stores with more revenue. "
   ],
   "cell_type": "markdown",
   "metadata": {}
  },
  {
   "source": [
    "## Q3: What is the value of the metric?\n",
    "For my metric, I choose $B = 100$."
   ],
   "cell_type": "markdown",
   "metadata": {}
  },
  {
   "cell_type": "code",
   "execution_count": 8,
   "metadata": {},
   "outputs": [
    {
     "output_type": "execute_result",
     "data": {
      "text/plain": [
       "0.34579170882489824"
      ]
     },
     "metadata": {},
     "execution_count": 8
    }
   ],
   "source": [
    "BUCKET_SIZE = 100\n",
    "metric = 0\n",
    "max_amount = df['order_amount'].max()\n",
    "def scaling_func(t):\n",
    "    return 2 * t / (max_amount ** 2)\n",
    "for order_amount in df['order_amount']:\n",
    "    metric += scaling_func(order_amount) * order_amount % BUCKET_SIZE / BUCKET_SIZE\n",
    "metric"
   ]
  },
  {
   "source": [
    "**Answer: The value of my metric is 0.34579170882489824.**"
   ],
   "cell_type": "markdown",
   "metadata": {}
  },
  {
   "source": [
    "# Part 2\n",
    "## Q1: How many orders were shipped by Speedy Express in total?\n",
    "**Answer: There are 54 orders shipped by Speedy Express**"
   ],
   "cell_type": "markdown",
   "metadata": {}
  },
  {
   "source": [
    "```sql\n",
    "SELECT COUNT(*)\n",
    "FROM Orders JOIN Shippers ON Orders.ShipperID = Shippers.ShipperID \n",
    "WHERE Shippers.ShipperName = 'Speedy Express';\n",
    "```"
   ],
   "cell_type": "markdown",
   "metadata": {}
  },
  {
   "source": [
    "## Q2: What is the last name of the employee with the most orders?\n",
    "**Answer: The last name is Peacock with 40 orders**"
   ],
   "cell_type": "markdown",
   "metadata": {}
  },
  {
   "source": [
    "```sql\n",
    "SELECT LastName, COUNT(OrderID) as NumOrders\n",
    "FROM Orders JOIN Employees ON Orders.EmployeeID = Employees.EmployeeID\n",
    "GROUP BY Employees.EmployeeID\n",
    "ORDER BY NumOrders DESC\n",
    "LIMIT 1;\n",
    "```"
   ],
   "cell_type": "markdown",
   "metadata": {}
  },
  {
   "source": [
    "## Q3: What product was ordered the most by customers in Germany?\n",
    "**Answer: The product is Boston Grab Meat with 60 orders from Germany**"
   ],
   "cell_type": "markdown",
   "metadata": {}
  },
  {
   "source": [
    "```sql\n",
    "SELECT ProductName, SUM(Quantity) AS NumProducts\n",
    "FROM Orders JOIN OrderDetails ON Orders.OrderID = OrderDetails.OrderID\n",
    "JOIN Customers ON Orders.CustomerID = Customers.CustomerID\n",
    "JOIN Products ON Products.ProductID = OrderDetails.ProductID\n",
    "WHERE Customers.Country = 'Germany'\n",
    "GROUP BY ProductName\n",
    "ORDER BY NumProducts DESC\n",
    "LIMIT 1;\n",
    "```"
   ],
   "cell_type": "markdown",
   "metadata": {}
  }
 ]
}